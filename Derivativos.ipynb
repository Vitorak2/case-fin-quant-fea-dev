{
 "cells": [
  {
   "cell_type": "markdown",
   "id": "4fdf19c3",
   "metadata": {},
   "source": [
    "## **1. INTRODUÇÃO**\n"
   ]
  },
  {
   "cell_type": "markdown",
   "id": "6767786d",
   "metadata": {},
   "source": [
    "Esse material, desenvolvido para o case de Finanças Quantitativas da Fea.Dev, foi baseado no livro **Options, Futures, and Other Derivatives**, de John Hull, edição de número 9.\n"
   ]
  },
  {
   "cell_type": "markdown",
   "id": "80ee49d0",
   "metadata": {},
   "source": [
    "A ideia é apresentar, de forma didática, os conceitos e as aplicações práticas sobre os quatros principais derivativos: contratos futuros, contratos a termo, swaps e opções.\n"
   ]
  },
  {
   "cell_type": "markdown",
   "id": "98942863",
   "metadata": {},
   "source": [
    "Por definição, derivativos são instrumentos financeiros cujo valor deriva de outro ativo, também chamado de ativo subjacente. Em outras palavras, eles são **contratos bilaterais** feitos entre os investidores em que são assumidas posições opostas: **comprada (long) ou vendida (short)**. Nos contratos futuros e a termo, isso representa a soma zero, visto que o ganho de uma parte representa a perda da outra. Já para swaps e opções, o risco e o retorno são assimétricos.\n"
   ]
  },
  {
   "cell_type": "markdown",
   "id": "37a4981c",
   "metadata": {},
   "source": [
    "O valor desses contratos depende do ativo negociado (subjacente), que pode ser taxas de juros ou de câmbio, commodities, ações e títulos públicos ou privados.\n"
   ]
  },
  {
   "cell_type": "markdown",
   "id": "116211e3",
   "metadata": {},
   "source": [
    "<div style=\"text-align: justify\">\n",
    "Segundo Hull, os derivativos podem ser utilizados em três principais estratégias: hedge (proteção contra o risco), especulação (obtenção de lucros através da exposição ao risco) e arbitragem (exploração de ineficiências de mercado para conseguir lucros sem risco).\n",
    "</div>"
   ]
  },
  {
   "cell_type": "markdown",
   "id": "909b24c1",
   "metadata": {},
   "source": [
    "<div style=\"text-align: justify\">\n",
    "De forma geral, a modelagem e a precificação dos derivativos envolvem a análise de fatores de mercado, como a taxa de juros livre de risco, volatilidade, preço do ativo no mercado à vista (spot) e prazo de vencimento do contrato.\n",
    "</div>"
   ]
  },
  {
   "cell_type": "markdown",
   "id": "0f002156",
   "metadata": {},
   "source": [
    "Além disso, um conceito importante para a compreensão das operações e das estratégias com derivativos é a **venda à descoberto (short selling)**. Ela ocorre quando um investidor (tomador) — por intermédio de uma corretora — aluga uma ação de outro investidor (doador) por um período de tempo determinado pelas partes e com a obrigação do pagamento de uma taxa de empréstimo. É importante ressaltar que a ação pode ser devolvida a qualquer momento antes do vencimento, encerrando a posição.\n"
   ]
  },
  {
   "cell_type": "markdown",
   "id": "298c0a2e",
   "metadata": {},
   "source": [
    "<div style=\"text-align: justify\">\n",
    "Após esse processo, o tomador vende a ação imediatamente, supondo que o valor dela seja 100. Na data de vencimento, ele é obrigado a recomprar a ação e devolver para o doador. No final, como a operação envolve a recompra da ação, o tomador obtém prejuízo caso o preço do ativo aumenta, se reduzir, observa-se o lucro. Supondo, então, dois cenários diferentes em que o valor da ação suba para 130 ou diminua para 80, temos os seguintes payoffs:\n",
    "</div>"
   ]
  },
  {
   "cell_type": "markdown",
   "id": "28660efd",
   "metadata": {},
   "source": [
    "<div align=\"center\">\n",
    "\n",
    "**Valorização da ação: prejuízo ao investidor**  \n",
    "$$ \\text{Prejuízo} = 100 - 130 = -30 $$\n",
    "\n",
    "</div>\n",
    "\n",
    "<div align=\"center\">\n",
    "\n",
    "**Desvalorização da ação: lucro ao investidor**  \n",
    "$$ \\text{Lucro} = 100 - 80 = 20 $$\n",
    "\n",
    "</div>\n"
   ]
  },
  {
   "cell_type": "markdown",
   "id": "63a7ee03",
   "metadata": {},
   "source": [
    "<div style=\"text-align: justify\">\n",
    "Se, durante a operação a ação paga dividendos, esse valor será destinado para o doador, nesse exemplo, se o dividendo for 2, os payoffs são alterado da seguinte forma:\n",
    "</div>"
   ]
  },
  {
   "cell_type": "markdown",
   "id": "035bf0aa",
   "metadata": {},
   "source": [
    "<div align=\"center\">\n",
    "\n",
    "**Valorização da ação: prejuízo ao investidor**  \n",
    "$$ \\text{Prejuízo} = 100 - 130 - 2 = -32 $$\n",
    "\n",
    "</div>\n",
    "\n",
    "<div align=\"center\">\n",
    "\n",
    "**Desvalorização da ação: lucro ao investidor**  \n",
    "$$ \\text{Lucro} = 100 - 80 - 2 = 18 $$\n",
    "\n",
    "</div>"
   ]
  },
  {
   "cell_type": "markdown",
   "id": "d25c1ff4",
   "metadata": {},
   "source": [
    "<div style=\"text-align: justify\">\n",
    "Outro ponto importante é a questão do valor presente. A fórmula popularmente usada é:\n",
    "</div>"
   ]
  },
  {
   "cell_type": "markdown",
   "id": "ed9b49f4",
   "metadata": {},
   "source": [
    "<div align=\"center\">\n",
    "\n",
    "$$ PV = \\frac{FV}{\\left(1 + \\frac{r}{n} \\right)^{n \\cdot t}} $$\n",
    "\n",
    "</div>"
   ]
  },
  {
   "cell_type": "markdown",
   "id": "dd9329e2",
   "metadata": {},
   "source": [
    "<div style=\"text-align: justify\">\n",
    "No livro, Hull utiliza o conceito de juros compostos com capitalização contínua, isto é, o rendimento do capital ocorre a todo instante, infinitamente pequeno.\n",
    "</div>"
   ]
  },
  {
   "cell_type": "markdown",
   "id": "a718dc78",
   "metadata": {},
   "source": [
    "<div style=\"text-align: justify\">\n",
    "Dessa forma, a fórmula é alterada para:\n",
    "</div>"
   ]
  },
  {
   "cell_type": "markdown",
   "id": "da136c56",
   "metadata": {},
   "source": [
    "$$\n",
    "PV = \\lim_{n \\to \\infty} \\frac{FV}{\\left(1 + \\frac{r}{n} \\right)^{n \\cdot t}} = FV \\cdot e^{-r \\cdot t}\n",
    "$$\n",
    "Onde:\n",
    "\n",
    "- $PV$: valor presente  \n",
    "- $FV$: valor futuro (fluxo de caixa)  \n",
    "- $r$: taxa de juros contínua  \n",
    "- $T$: tempo até o vencimento\n"
   ]
  },
  {
   "cell_type": "markdown",
   "id": "15e61436",
   "metadata": {},
   "source": [
    "<div style=\"text-align: justify\">\n",
    "Por fim, os derivativos podem ser negociados tanto em bolsas de valores (Exchange - Traded Markets) como em balcão (Over The Counter).\n",
    "</div>"
   ]
  },
  {
   "cell_type": "markdown",
   "id": "b8d74887",
   "metadata": {},
   "source": [
    "## **2. CONTRATO FUTURO**\n"
   ]
  },
  {
   "cell_type": "markdown",
   "id": "62c4b1a2",
   "metadata": {},
   "source": [
    "<div style=\"text-align: justify\">\n",
    "\n",
    "Os contratos futuros são acordos para comprar ou vender um ativo por data e preço predeterminados. Inicialmente, o fluxo de caixa é zero.  \n",
    "Por exemplo, os investidores A (*long*) e B (*short*) definem um contrato futuro para o ativo $X$ com um prazo $T$ meses e preço $K$.  \n",
    "- Hoje, no mercado à vista, o valor de $X$ é $S_0$.  \n",
    "- No vencimento, em $T$ meses, A compra de B o ativo $X$ pelo valor $K$.  \n",
    "- Para verificar o ganho ou a perda da operação, é preciso comparar com o preço do ativo no mercado *spot* na data do vencimento ($S_T$).  \n",
    "Assim, os respectivos payoffs são:\n",
    "\n",
    "</div>"
   ]
  },
  {
   "cell_type": "markdown",
   "id": "e1342139",
   "metadata": {},
   "source": [
    "<div align=\"center\">\n",
    "\n",
    "**Investidor A (long):**  \n",
    "$$ \\text{Payoff}_A = S_T - K $$\n",
    "\n",
    "</div>\n",
    "\n",
    "<div align=\"center\">\n",
    "\n",
    "**Investidor B (short):**  \n",
    "$$ \\text{Payoff}_B = K - S_T $$\n",
    "\n",
    "</div>"
   ]
  },
  {
   "cell_type": "markdown",
   "id": "a4285693",
   "metadata": {},
   "source": [
    "<div style=\"text-align: justify\">\n",
    "Essa é a estrutura simplificada dos contratos futuros. Esses instrumentos são negociados pela Bolsa, no caso do Brasil, por meio da B3. Por isso, existem padrões a serem seguidos.\n",
    "</div>"
   ]
  },
  {
   "cell_type": "markdown",
   "id": "074119ee",
   "metadata": {},
   "source": [
    "<div style=\"text-align: justify\">\n",
    "São definidos a qualidade do ativo — no caso de commodities —, a quantidade do ativo negociado por contrato, os acordos de entrega — commodities —, os meses de entrega e os limites de posição e de preço. É válido ressaltar que, de forma geral, os contratos de commodities não envolvem a entrega do ativo.\n",
    "</div>"
   ]
  },
  {
   "cell_type": "markdown",
   "id": "4fa48f69",
   "metadata": {},
   "source": [
    "<div style=\"text-align: justify\">\n",
    "\n",
    "De acordo com Hull, conforme a data de vencimento dos contratos se aproxima:\n",
    "\n",
    "</div>\n",
    "\n",
    "<div align=\"center\">\n",
    "\n",
    "$$ F_t = S_t $$\n",
    "\n",
    "</div>\n",
    "\n",
    "<div style=\"text-align: justify\">\n",
    "\n",
    "Isso se deve à oportunidade de arbitragem.\n",
    "\n",
    "</div>"
   ]
  },
  {
   "cell_type": "markdown",
   "id": "67bb2901",
   "metadata": {},
   "source": [
    "Se $F_T > S_T$, o investidor pode vender contratos futuros e comprar o ativo subjacente.  \n",
    "Nesse caso, outros agentes farão a mesma operação, de tal forma que o preço de $F_T$ diminui até igualar com $S_T$."
   ]
  },
  {
   "cell_type": "markdown",
   "id": "0ee7830b",
   "metadata": {},
   "source": [
    "Por outro lado, se a seguinte condição for verdadeira:\n",
    "\n",
    "$$\n",
    "S_T > F_T\n",
    "$$\n",
    "\n",
    "O investidor vende o ativo no mercado à vista e compra contratos futuros, caracterizando uma oportunidade de arbitragem.  \n",
    "Da mesma forma, outros agentes farão a mesma operação e o **preço de $F_T$ tende a subir até igualar com $S_T$**."
   ]
  },
  {
   "cell_type": "markdown",
   "id": "40648dd5",
   "metadata": {},
   "source": [
    "<div style=\"text-align: justify\">\n",
    "Outros fatores relevantes são os ajustes diários e a Margem de Garantia. Os ativos negociados nos contratos futuros sofrem variações de preços diariamente, que devem ser compensados financeiramente, ou seja, o lucro ou prejuízo devem ser pagos diariamente. Por isso, para evitar a inadimplência, a Bolsa exige o depósito de capital — pode ser em títulos, em ações ou em dinheiro — de uma margem para garantir a liquidação.\n",
    "</div>"
   ]
  },
  {
   "cell_type": "markdown",
   "id": "da691bf0",
   "metadata": {},
   "source": [
    "<div style=\"text-align: justify\">\n",
    "A partir dessas características, o principal uso dos contratos futuros é o hedge. Ele serve como uma proteção contra o risco, visto que essa operação trava o preço do ativo. Basicamente, existem dois tipos de hedge: compra (long) e venda (short).\n",
    "</div>"
   ]
  },
  {
   "cell_type": "markdown",
   "id": "dbc1e23a",
   "metadata": {},
   "source": [
    "<div style=\"text-align: justify\">\n",
    "Segundo Hull, o long hedge é feito ao assumir uma posição long em contratos futuros e é útil quando o investidor pretende comprar um ativo no futuro, ao fixar o preço, o agente é protegido contra a alta dos preços.\n",
    "</div>"
   ]
  },
  {
   "cell_type": "markdown",
   "id": "50c1437b",
   "metadata": {},
   "source": [
    "<div style=\"text-align: justify\">\n",
    "O short hedge — por sua vez — consiste em assumir uma posição short em contratos futuros, usado quando o investidor sabe que precisará vender o ativo em uma data futura, protegendo-se contra uma queda de preços.\n",
    "</div>"
   ]
  },
  {
   "cell_type": "markdown",
   "id": "d8f088c2",
   "metadata": {},
   "source": [
    "# Hedge de Compra"
   ]
  },
  {
   "cell_type": "markdown",
   "id": "95eb7ff5",
   "metadata": {},
   "source": [
    "---"
   ]
  },
  {
   "cell_type": "markdown",
   "id": "cb0b4688",
   "metadata": {},
   "source": [
    "<div style=\"text-align: justify\">\n",
    "Um exemplo de long hedge, mostrado por Kolb e Overdahl (2003), é: uma Asset espera receber, em três meses, o valor de $1.000.000 e sabe que, com esse capital, precisará comprar ações no vencimento. Para se proteger contra uma possível alta de preços, a gestora decide comprar contratos futuros para criar um hedge de compra. Hoje, no mercado futuro, em cada contrato futuro de índice de ações é negociado a um preço cotado de 100 pontos e que cada ponto vale $1. Logo, são comprados 10.000 contratos futuros (100 * 10.000 = $1.00.000).\n",
    "</div>"
   ]
  },
  {
   "cell_type": "markdown",
   "id": "91e9f65a",
   "metadata": {},
   "source": [
    "<div style=\"text-align: justify\">\n",
    "Supondo que, no vencimento, o preço do índice aumentou para 105. A Asset obteve um lucro de $50.000 na operação com contratos futuros e, agora, dispõe de $1.050.000 para a compra de ações, o que resultaria em 10.000 unidades (1.050.000 / 105).\n",
    "</div>"
   ]
  },
  {
   "cell_type": "markdown",
   "id": "3c84af91",
   "metadata": {},
   "source": [
    "<div style=\"text-align: justify\">\n",
    "Por outro lado, se o índice diminuir para 95, houve um prejuízo de $50.000 nos contratos futuros, mas, como o preço das ações também caiu, a Asset continuará com as mesmas 10.000 unidades. Dessa forma, a gestora está protegida contra a variação de preços das ações e manteve o poder de compra.\n",
    "</div>"
   ]
  },
  {
   "cell_type": "markdown",
   "id": "234cfa19",
   "metadata": {},
   "source": [
    "---"
   ]
  },
  {
   "cell_type": "markdown",
   "id": "5ea80b8d",
   "metadata": {},
   "source": [
    "# Hedge de Venda"
   ]
  },
  {
   "cell_type": "markdown",
   "id": "10fb1e9a",
   "metadata": {},
   "source": [
    "---"
   ]
  },
  {
   "cell_type": "markdown",
   "id": "f7b82c8f",
   "metadata": {},
   "source": [
    "<div style=\"text-align: justify\">\n",
    "Já para o short hedge: um agricultor sabe que venderá soja em cinco meses. Para minimizar riscos, ele vende contratos futuros para travar o preço de venda. No dia do vencimento, se o preço da soja cair, ele terá prejuízo na venda física, mas lucro com os contratos. Em contrapartida, se o preço subir, ele terá lucro na venda física, mas prejuízo nos contratos futuros.\n",
    "</div>\n"
   ]
  },
  {
   "cell_type": "markdown",
   "id": "30a30ab3",
   "metadata": {},
   "source": [
    "---"
   ]
  },
  {
   "cell_type": "markdown",
   "id": "dc65e462",
   "metadata": {},
   "source": [
    "<div style=\"text-align: justify\">\n",
    "É importante ressaltar que o long hedge e o short hedge foram exemplificados em um cenário ideal. De acordo com Hull, os contratos futuros, por serem padronizados pela Bolsa, estão sujeitos ao risco de base — situação em que o ativo a ser hedgeado não é igual ao ativo negociado no contrato. Observa-se isso na situação em que um produtor de soja do Mato Grosso do Sul precisa fazer um hedge, entretanto, os contratos futuros de soja negociados na B3 são precificados de acordo com a soja produzida em São Paulo. As características do ativo, dos custos de produção e de logística são ligeiramente diferentes, o que dificulta a criação de um hedge perfeito.\n",
    "</div>"
   ]
  },
  {
   "cell_type": "markdown",
   "id": "9e3d22c7",
   "metadata": {},
   "source": [
    "<div style=\"text-align: justify\">\n",
    "No caso de um investidor, caso ele queira fazer um hedge de ações de um setor específico — farmacêutico, por exemplo — ao comprar contratos futuros de índices do Ibovespa, composto por empresas de vários outros segmentos, observa-se que parte do risco permanecerá.\n",
    "</div>"
   ]
  },
  {
   "cell_type": "markdown",
   "id": "0449c99e",
   "metadata": {},
   "source": [
    "<div style=\"text-align: justify\">\n",
    "Quanto maior for a correlação entre o ativo a ser hedgeado e o retratado no contrato futuro, mais eficiente será o hedge. Em contrapartida, o risco de base tende a reduzir o grau de proteção da operação.\n",
    "</div>"
   ]
  },
  {
   "cell_type": "markdown",
   "id": "7cae96bb",
   "metadata": {},
   "source": [
    "Para a precificação de contratos futuros, Hull assume quatro suposições iniciais:\n",
    "\n",
    "1. Os participantes do mercado não estão sujeitos a custos de transação  \n",
    "2. O valor das taxas de imposto sobre o lucro é o mesmo para todos  \n",
    "3. É possível tomar ou conceder empréstimos à taxa de juros livre de risco  \n",
    "4. Os agentes, sempre que possível, aproveitam as oportunidades de arbitragem"
   ]
  },
  {
   "cell_type": "markdown",
   "id": "87b0c2e0",
   "metadata": {},
   "source": [
    "De forma geral, a fórmula é:\n",
    "\n",
    "$$\n",
    "F_0 = S_0 \\cdot e^{rT}\n",
    "$$\n",
    "\n",
    "Onde:\n",
    "\n",
    "- $F_0$: Preço do contrato futuro  \n",
    "- $S_0$: Preço spot do ativo, nesse caso, que não paga dividendos ou rendimentos  \n",
    "- $r$: Taxa de juros livre de risco  \n",
    "- $T$: Tempo até o vencimento (em anos)"
   ]
  },
  {
   "cell_type": "markdown",
   "id": "8583e4cd",
   "metadata": {},
   "source": [
    "A lógica por trás da fórmula é a mesma da precificação por juros compostos:  \n",
    "Qual a quantia de capital que precisa ser investida hoje ($S_0$), a uma taxa $r$ e prazo $T$, para render o valor $F_0$?"
   ]
  },
  {
   "cell_type": "markdown",
   "id": "5616cb8e",
   "metadata": {},
   "source": [
    "# Exemplo: Oportunidade de Arbitragem\n",
    "---"
   ]
  },
  {
   "cell_type": "markdown",
   "id": "fed40f14",
   "metadata": {},
   "source": [
    "Nas seguintes condições: $S_0 = 40$, $r = 5\\%$ ao ano, $T = \\frac{3}{12}$ (ou 0,25 anos).  \n",
    "Calculando o valor justo ($F_0$) dos contratos futuros:\n",
    "\n",
    "$$\n",
    "F_0 = 40 \\cdot e^{0{,}05 \\cdot 0{,}25} \\approx 40{,}5\n",
    "$$"
   ]
  },
  {
   "cell_type": "markdown",
   "id": "4068669f",
   "metadata": {},
   "source": [
    "Se os contratos futuros estão sendo negociados por um preço mais alto, supondo $F_0 = 43$ (supervalorizado), o investidor pode realizar a seguinte operação:\n",
    "\n",
    "- Toma emprestado $S_0 = 40$ e investe esse valor à taxa de juros livre de risco durante $T = 0{,}25$ anos, o que resultará em aproximadamente $40{,}5$\n",
    "- Simultaneamente, vende contratos futuros por $F_0 = 43$\n",
    "\n",
    "No vencimento, o resultado será:\n",
    "\n",
    "$$\n",
    "\\text{Lucro} = 43 - 40{,}5 = 2{,}5\n",
    "$$"
   ]
  },
  {
   "cell_type": "markdown",
   "id": "35337434",
   "metadata": {},
   "source": [
    "Caso os contratos estejam com valor mais baixo, por exemplo, $F_0 = 39$ (subvalorizado), ocorre a seguinte operação:\n",
    "\n",
    "- Vende-se a descoberto (*short selling*) a ação no valor de $S_0 = 40$ (recebe 40)\n",
    "- Investe-se essa quantia a uma taxa de juros livre de risco durante $T = 0{,}25$ anos\n",
    "- Simultaneamente, vende-se contratos futuros\n",
    "\n",
    "No vencimento:\n",
    "\n",
    "- O investidor receberá aproximadamente $40{,}5$ da aplicação\n",
    "- Pagará $F_0 = 39$ para recomprar a ação via contrato futuro\n",
    "\n",
    "Portanto, observa-se o lucro por contrato:\n",
    "\n",
    "$$\n",
    "\\text{Lucro} = 40{,}5 - 39 = 1{,}5\n",
    "$$"
   ]
  },
  {
   "cell_type": "markdown",
   "id": "db7efd27",
   "metadata": {},
   "source": [
    "Como regra básica: short selling o que está caro e comprar o barato.\n"
   ]
  },
  {
   "cell_type": "markdown",
   "id": "8414a740",
   "metadata": {},
   "source": [
    "---"
   ]
  },
  {
   "cell_type": "markdown",
   "id": "4eb64d14",
   "metadata": {},
   "source": [
    "## **3. CONTRATO A TERMO**\n"
   ]
  },
  {
   "cell_type": "markdown",
   "id": "918709ea",
   "metadata": {},
   "source": [
    "<div style=\"text-align: justify\">\n",
    "O funcionamento dos contratos a termo é muito parecido com os contratos futuros: um acordo de compra ou de venda de um determinado ativo por um preço e prazo predeterminados. A principal diferença entre eles é a forma como são negociados. O contrato a termo é feito no mercado de balcão (OTC), em vez da Bolsa, como nos futuros. Assim, as partes envolvidas possuem maior flexibilidade e liberdade em relação à padronização exigida pela bolsa. Desse modo, o risco de base tende a ser consideravelmente menor se comparado com os contratos futuros.Outra diferença relevante é a ausência dos ajustes diários, ou seja, não há o fluxo de caixa entre as partes até a data de vencimento, em decorrência disso, não há a margem de garantia obrigatória, a não ser que as partes definam no contrato.\n",
    "</div>"
   ]
  },
  {
   "cell_type": "markdown",
   "id": "779ffd88",
   "metadata": {},
   "source": [
    "<div style=\"text-align: justify\">\n",
    "Os mecanismos existentes para reduzir o risco de inadimplência não são obrigatórios por regulamentação e padronização, tudo depende do acordo entre as partes envolvidas.\n",
    "</div>"
   ]
  },
  {
   "cell_type": "markdown",
   "id": "8df2926e",
   "metadata": {},
   "source": [
    "<div style=\"text-align: justify\">\n",
    "Quanto à precificação, conceitualmente, a fórmula é a mesma dos contratos futuros. Mas, como existem os ajustes diários nos futuros, pode ocorrer uma diferença entre os preços dos contratos, principalmente se momentos de instabilidade e de alta volatilidade.\n",
    "</div>"
   ]
  },
  {
   "cell_type": "markdown",
   "id": "b0069cfe",
   "metadata": {},
   "source": [
    "## *4. SWAPS*\n"
   ]
  },
  {
   "cell_type": "markdown",
   "id": "50f4a66f",
   "metadata": {},
   "source": [
    "<div style=\"text-align: justify\">\n",
    "O terceiro derivativo, os swaps, são completamente diferentes dos contratos futuros e contratos a termo. Por definição, os swaps são contratos feitos em OTC em que dois agentes trocam fluxo de caixa em uma data futura. O acordo determina a periodicidade em que as trocas ocorrem, o tempo de duração, a métrica usada para definir os valores que serão pagos e o capital nocional, base para o cálculo dos juros. Nessa operação, é opcional a presença de um intermediário financeiro.\n",
    "</div>"
   ]
  },
  {
   "cell_type": "markdown",
   "id": "1344c349",
   "metadata": {},
   "source": [
    "<div style=\"text-align: justify\">\n",
    "De forma geral, as métricas mais comuns usadas para os swaps são taxas de juros ou de câmbio, índices de bolsas podem ser utilizados, mas é pouco comum.\n",
    "</div>"
   ]
  },
  {
   "cell_type": "markdown",
   "id": "9167380d",
   "metadata": {},
   "source": [
    "O swap, aplicado no contexto brasileiro, pode ser exemplificado da seguinte forma:\n",
    "\n",
    "Duas empresas, A e B, definem que, a cada 45 dias (periodicidade), durante 2 anos (tempo), a empresa A **recebe uma taxa fixa de 14% a.a.** de B e **paga a taxa flutuante Selic Meta** (métrica) sobre um valor de **R$ 1.000.000,00** (valor nocional).\n",
    "\n",
    "A cada vez que o Copom anuncia um novo valor da Selic, ocorre a **troca de fluxo de caixa**, e a **diferença entre as taxas contratadas** é liquidada entre as partes.\n",
    "\n",
    "Os respectivos payoffs são:\n",
    "\n",
    "- Para A:\n",
    "\n",
    "  $$\n",
    "  \\text{Payoff}_A = 1.000.000 \\cdot 14\\% - 1.000.000 \\cdot \\text{Selic\\%} = 1.000.000 \\cdot (0{,}14 - \\text{Selic\\%})\n",
    "  $$\n",
    "\n",
    "- Para B:\n",
    "\n",
    "  $$\n",
    "  \\text{Payoff}_B = 1.000.000 \\cdot \\text{Selic\\%} - 1.000.000 \\cdot 14\\% = 1.000.000 \\cdot (\\text{Selic\\%} - 0{,}14)\n",
    "  $$"
   ]
  },
  {
   "cell_type": "markdown",
   "id": "46610853",
   "metadata": {},
   "source": [
    "Assim, apenas um dos lados paga — isso dependerá se a nova Selic for maior ou menor do que 14% a.a.\n",
    "\n",
    "O **Pagamento Líquido** pode ser calculado com a seguinte fórmula:\n",
    "\n",
    "$$\n",
    "\\text{Pagamento Líquido} = (\\text{Taxa maior} - \\text{Taxa menor}) \\cdot \\text{Valor nocional}\n",
    "$$"
   ]
  },
  {
   "cell_type": "markdown",
   "id": "c661d1b8",
   "metadata": {},
   "source": [
    "Desse modo, para precificar o swap, os agentes precisam estimar o valor da Selic no futuro e a expectativa dos fluxos de caixa.  \n",
    "Em seguida, esses fluxos devem ser trazidos a valor presente.\n",
    "\n",
    "Generalizando a fórmula da precificação:\n",
    "\n",
    "$$\n",
    "\\text{Valor do Swap} = \\text{VP}_{\\text{flutuante}} - \\text{VP}_{\\text{fixo}}\n",
    "$$"
   ]
  },
  {
   "cell_type": "markdown",
   "id": "d19a5962",
   "metadata": {},
   "source": [
    "Uma das operações de swap mais comuns utilizadas pelas empresas é a **conversão de dívida com taxa flutuante para fixa** ou vice-versa.  \n",
    "A mesma lógica pode ser aplicada para a transformação de ativos.\n",
    "\n",
    "A estratégia de investimento pode variar de acordo com as expectativas das organizações sobre o cenário macroeconômico futuro.\n",
    "\n",
    "No exemplo do swap entre as empresas A e B:\n",
    "\n",
    "- Empresa **A** espera uma **diminuição nas taxas de juros**, mas suas dívidas estão atreladas a uma **taxa fixa de 12% ao ano**\n",
    "- Empresa **B**, por outro lado, acredita que **as taxas de juros vão aumentar**, mas possui empréstimos com base em uma **taxa flutuante de Selic + 0,2% ao ano**\n",
    "\n",
    "Com o objetivo de adequar as exposições financeiras aos possíveis cenários, ambas planejam — por meio do swap — **converter suas dívidas**.\n",
    "\n",
    "No contrato:\n",
    "\n",
    "- A passa a pagar: $i_{\\text{flutuante}} = \\text{Selic}$\n",
    "- A passa a receber: $i_{\\text{fixa}} = 14\\%$\n",
    "\n",
    "O custo efetivo da operação para cada empresa será:\n",
    "\n",
    "- Para A:\n",
    "\n",
    "  $$\n",
    "  C_A = 12\\% - (14\\% - \\text{Selic}) = \\text{Selic} + 2\\% \\ \\text{ao ano}\n",
    "  $$\n",
    "\n",
    "- Para B:\n",
    "\n",
    "  $$\n",
    "  C_B = (\\text{Selic} + 0{,}2\\%) - (\\text{Selic} - 14\\%) = 14{,}2\\% \\ \\text{ao ano}\n",
    "  $$\n",
    "\n",
    "Com base nisso, $C_A$ e $C_B$ representam as **novas taxas efetivas** que as empresas pagarão por seus empréstimos.  \n",
    "Dessa forma, conforme suas expectativas sobre o cenário macroeconômico, elas conseguem **reduzir a exposição ao risco da variação da taxa de juros**, caracterizando uma operação de **hedge**"
   ]
  },
  {
   "cell_type": "markdown",
   "id": "ce5d0d34",
   "metadata": {},
   "source": [
    "<div style=\"text-align: justify\">\n",
    "As instituições financeiras, nos swaps, podem atuar como intermediárias entre as partes. Os bancos, geralmente, fazem duas operações de swap com dois clientes diferentes. A definição das condições do contrato é feita de forma inversa. Com a empresa A, a instituição recebe uma taxa fixa de 12% ao ano e paga a taxa flutuante Selic. Para B, ela recebe a taxa flutuante Selic e paga uma taxa fixa de 11,5% ao ano. No exemplo, o lucro é dado pela diferença entre as taxas fixas (0,5% ao ano).\n",
    "</div>"
   ]
  },
  {
   "cell_type": "markdown",
   "id": "95f188c2",
   "metadata": {},
   "source": [
    "<div style=\"text-align: justify\">\n",
    "As taxas negociadas para a operação de spread podem ser baseadas nos ratings dos clientes, ou seja, uma pontuação de acordo com o risco de inadimplência. No mercado internacional, pode ser usado como referência relatórios disponíveis no site da Standard & Poor 's (S&P). Já no contexto brasileiro, a Austin Rating fornece o score dos bancos nacionais. Conforme aumenta o risco do cliente, maior tende a ser o spread aplicado na taxa de swap.\n",
    "</div>"
   ]
  },
  {
   "cell_type": "markdown",
   "id": "e848a0cf",
   "metadata": {},
   "source": [
    "<div style=\"text-align: justify\">\n",
    "Outro uso relevante do swap é o Credit Default Swap (CDS). O CDS, derivativo de crédito, é uma proteção contra o risco de crédito de um emissor de dívida, o que pode incluir indivíduos, empresas ou países. Essa operação funciona como um seguro, em que as instituições financeiras assumem a responsabilidade de cobrir as perdas do comprador em caso de inadimplência, ou seja, calotes ou moratória. Em troca, elas recebem um pagamento periódico do cliente, na prática, ocorre uma transferência de risco.\n",
    "</div>"
   ]
  },
  {
   "cell_type": "markdown",
   "id": "823fda1d",
   "metadata": {},
   "source": [
    "## **5. OPÇÕES**\n"
   ]
  },
  {
   "cell_type": "markdown",
   "id": "66ba678b",
   "metadata": {},
   "source": [
    "<div style=\"text-align: justify\">\n",
    "As opções são os derivativos com maior flexibilidade e aplicações, pode ser negociado tanto em bolsa como em OTC. Nos contratos de opções, existem duas posições: comprada (titular) ou vendida (lançador), além de duas classificações: opção de compra (call) e opção de venda (put). Por isso, no total, há 4 combinações diferentes: compra de call, venda de call, compra de put ou venda de put.\n",
    "</div>"
   ]
  },
  {
   "cell_type": "markdown",
   "id": "81123fd0",
   "metadata": {},
   "source": [
    "<div style=\"text-align: justify\">\n",
    "Por definição, ao comprar uma call, o titular possui o direito — mas não a obrigação — de adquirir, no futuro, o ativo subjacente por um valor previamente estabelecido. O lançador, sempre que o direito for exercido, possui a obrigação de vender o ativo pelo preço acordado.\n",
    "</div>"
   ]
  },
  {
   "cell_type": "markdown",
   "id": "b9e5337b",
   "metadata": {},
   "source": [
    "<div style=\"text-align: justify\">\n",
    "As puts — por sua vez — possuem lógica semelhante. Ao comprar uma put, o investidor adquire o direito de vender um determinado ativo no futuro pelo preço negociado. O vendedor, portanto, possui a obrigação de comprar o ativo.\n",
    "</div>"
   ]
  },
  {
   "cell_type": "markdown",
   "id": "7016f346",
   "metadata": {},
   "source": [
    "<div style=\"text-align: justify\">\n",
    "De forma geral, os contratos de opções possuem os seguintes acordos: o ativo negociado, o prazo de vigência, o preço pré -estabelecido — ou strike price — e o prêmio da opção, ou seja, o valor que o comprador, inicialmente, pagará ao vendedor.\n",
    "</div>"
   ]
  },
  {
   "cell_type": "markdown",
   "id": "0edda7b6",
   "metadata": {},
   "source": [
    "<div style=\"text-align: justify\">\n",
    "Assim, o resultado de uma operação com opções, sejam elas calls ou puts, é dado pela comparação entre o preço do ativo subjacente e o strike price na data de vencimento do contrato. Para o comprador de uma call, o direito será exercido caso o preço do ativo for superior do que o strike price, já no caso da put, o preço do ativo deverá ser menor do que o strike price. É válido ressaltar que o prêmio pago pela opção, no vencimento, é considerado um custo afundado (sunk cost), visto que ele não interfere nas ações tomadas pelos investidores após o acordo ser firmado: isso dependerá do preço do ativo e do strike price.\n",
    "</div>"
   ]
  },
  {
   "cell_type": "markdown",
   "id": "b6af50e2",
   "metadata": {},
   "source": [
    "<div style=\"text-align: justify\">\n",
    "Para exemplificar o funcionamento das opções, supondo que os investidores A (titular) e B (lançador) criam um acordo de call. O ativo subjacente é a ação X, o preço dela, hoje, é R$80, o vencimento ocorrerá em três meses com o strike price de R$90 e o prêmio de R$5. Hoje, o investidor A paga R$5 para B. No vencimento, se o preço de X no mercado à vista for superior do que o strike price, R$100, o investidor A exerce o  seu direito e, por isso, compra, por R$90, a ação que vale R$100. Caso o preço de X for menor do que strike price, R$70, ele não exerce o direito, já que não seria lógico comprar X por R$90. Os respectivos payoffs para A foram: R$10 ( R$100 - R$90) e R$0. Já para B: R$0 e R$20 (R$90 - R$70). Para um acordo de put, considerando as mesmas condições, A exercerá o direito caso o preço do ativo for menor do que o strike price. Se X for R$70, ele vende para B o ativo por R$90. Caso o preço for R$95, a put não será exercida, já que não compensa vender o por R$90. Portanto, os payoffs de A foram: R$20 (R$90 - R$70) e R$0. Para B: R$0 e R$5 (R$95 - R$90).\n",
    "</div>"
   ]
  },
  {
   "cell_type": "markdown",
   "id": "117f495c",
   "metadata": {},
   "source": [
    "<div style=\"text-align: justify\">\n",
    "Com base nisso, é possível classificar — sob o ponto de vista do comprador — o estado da opção de acordo com a diferença entre o preço do ativo e o strike price. A opção é denominada In The Money (ITM) caso o preço do ativo for favorável para exercer a opção, mas está próximo ao strike price. Se a diferença for significativa, ela recebe a nomenclatura de Deep In The Money (DITM). Por outro lado, quando o exercício não é vantajoso, mas o preço do ativo for próximo do strike, a opção é considerada Out Of The Money (OTM). Se a diferença for elevada e desfavorável, utiliza-se o termo Deep Out Of The Money (DOTM).\n",
    "</div>"
   ]
  },
  {
   "cell_type": "markdown",
   "id": "d2f00a30",
   "metadata": {},
   "source": [
    "---"
   ]
  },
  {
   "cell_type": "markdown",
   "id": "6adc1719",
   "metadata": {},
   "source": [
    "A imagem abaixo, retirada do site **analystprep**, mostra os gráficos dos payoffs das opções, bem como a função usada para calculá-los:"
   ]
  },
  {
   "cell_type": "code",
   "execution_count": 2,
   "id": "4b741584",
   "metadata": {},
   "outputs": [
    {
     "data": {
      "image/png": "[encoded data removed]",
      "text/plain": [
       "<IPython.core.display.Image object>"
      ]
     },
     "metadata": {},
     "output_type": "display_data"
    }
   ],
   "source": [
    "from IPython.display import display, Image\n",
    "\n",
    "display(Image(filename='payoff.png'))"
   ]
  },
  {
   "cell_type": "markdown",
   "id": "8e48df0b",
   "metadata": {},
   "source": [
    "Nesse caso, o strike price utilizado nos gráficos é dado por $X$, ao invés de $K$, como no livro do Hull"
   ]
  },
  {
   "cell_type": "markdown",
   "id": "566e2ef4",
   "metadata": {},
   "source": [
    "---"
   ]
  },
  {
   "cell_type": "markdown",
   "id": "960989ea",
   "metadata": {},
   "source": [
    "<div style=\"text-align: justify\">\n",
    "Essas opções — em que o direito só pode ser exercido na data de vencimento — são denominadas opções europeias. Existem, também, as opções americanas. Nelas, o direito pode ser exercido pelo comprador a qualquer momento, não só no vencimento. Nesse caso, como apresenta maior flexibilidade, o prêmio pago inicialmente é — geralmente — mais alto se comparado ao da europeia.\n",
    "</div>"
   ]
  },
  {
   "cell_type": "markdown",
   "id": "8162f269",
   "metadata": {},
   "source": [
    "<div style=\"text-align: justify\">\n",
    "A precificação das opções — europeias ou americanas — é mais complexa se comparada com os outros derivativos. Nos exemplos anteriores, para fins didáticos, o prêmio pago pelo comprador foi escolhido de forma arbitrária. Agora, será calculado o valor justo da opção (prêmio) por meio do modelo Binomial ou da fórmula Black- Scholes, com a ênfase em ações como ativo subjacente.\n",
    "</div>"
   ]
  },
  {
   "cell_type": "markdown",
   "id": "f622950e",
   "metadata": {},
   "source": [
    "Inicialmente, é preciso compreender quais são os **seis fatores que afetam o preço das opções**:\n"
   ]
  },
  {
   "cell_type": "markdown",
   "id": "daca8791",
   "metadata": {},
   "source": [
    "---"
   ]
  },
  {
   "cell_type": "markdown",
   "id": "839044fe",
   "metadata": {},
   "source": [
    "- Valor atual da ação: $S_0$  \n",
    "- Preço de exercício (*strike price*): $K$  \n",
    "- Tempo até o vencimento: $T$  \n",
    "- Volatilidade: $\\sigma$  \n",
    "- Taxa de juros livre de risco: $r$  \n",
    "- Pagamento de dividendos (ou não)"
   ]
  },
  {
   "cell_type": "markdown",
   "id": "4e43ea23",
   "metadata": {},
   "source": [
    "---"
   ]
  },
  {
   "cell_type": "markdown",
   "id": "77c5781a",
   "metadata": {},
   "source": [
    "Os próximos exemplos serão construídos a partir da **perspectiva da posição comprada da opção** (*long*)  \n",
    "e considerando a **situação em que ela será exercida**."
   ]
  },
  {
   "cell_type": "markdown",
   "id": "23a8e908",
   "metadata": {},
   "source": [
    "O efeito de cada variável no valor das opções será explicado abaixo.\n"
   ]
  },
  {
   "cell_type": "markdown",
   "id": "595020a1",
   "metadata": {},
   "source": [
    "## *5.0.1. $S_T$ e $K$*"
   ]
  },
  {
   "cell_type": "markdown",
   "id": "fa4d5efa",
   "metadata": {},
   "source": [
    "---"
   ]
  },
  {
   "cell_type": "markdown",
   "id": "a77e604c",
   "metadata": {},
   "source": [
    "No caso das **calls**, o payoff é dado pela seguinte função:\n",
    "\n",
    "$$\n",
    "\\text{Call} = \\max(S_T - K,\\ 0)\n",
    "$$\n",
    "\n",
    "Assim, conforme o **preço do ativo ($S_T$) aumenta**, a call **valoriza**.  \n",
    "Por outro lado, se o **strike price ($K$) aumenta**, ocorre a **desvalorização** da call.\n",
    "\n",
    "Já para as **puts**, o payoff é dado por:\n",
    "\n",
    "$$\n",
    "\\text{Put} = \\max(K - S_T,\\ 0)\n",
    "$$"
   ]
  },
  {
   "cell_type": "markdown",
   "id": "e88fd0f5",
   "metadata": {},
   "source": [
    "Logo, as puts seguem uma lógica contrária das calls, a medida que $S_T$ aumenta, ela desvaloriza. Se reduzir o strike price, ela valoriza.\n"
   ]
  },
  {
   "cell_type": "markdown",
   "id": "c8583688",
   "metadata": {},
   "source": [
    "<div style=\"text-align: justify\">\n",
    "A mesma lógica pode ser aplicada para opções americanas.\n",
    "</div>"
   ]
  },
  {
   "cell_type": "markdown",
   "id": "a6ba0ddd",
   "metadata": {},
   "source": [
    "---"
   ]
  },
  {
   "cell_type": "markdown",
   "id": "19f27c3b",
   "metadata": {},
   "source": [
    "### *5.0.2. Prazo de Vencimento $T$*"
   ]
  },
  {
   "cell_type": "markdown",
   "id": "37dfd837",
   "metadata": {},
   "source": [
    "---"
   ]
  },
  {
   "cell_type": "markdown",
   "id": "654f2d4c",
   "metadata": {},
   "source": [
    "<div style=\"text-align: justify\">\n",
    "Já para o tempo de vencimento, no caso das americanas, já que elas podem ser exercidas a qualquer momento, seja para put ou call, o aumento do prazo valoriza a opção. Já para as europeias, não se sabe ao certo o efeito do prazo no preço, já que nem sempre o vencimento maior indica vantagem ao comprador. Por exemplo, ao considerar duas opções com o mesmo ativo, mas com o vencimento em 1 mês e 2 meses. Se em 6 semanas é esperado o pagamento de dividendos, o valor da ação diminui. Desse modo, o prazo menor é mais vantajoso.\n",
    "</div>"
   ]
  },
  {
   "cell_type": "markdown",
   "id": "86854906",
   "metadata": {},
   "source": [
    "---"
   ]
  },
  {
   "cell_type": "markdown",
   "id": "dfd9f21a",
   "metadata": {},
   "source": [
    "## *5.0.3 Volatilidade $\\sigma$*"
   ]
  },
  {
   "cell_type": "markdown",
   "id": "ce23037b",
   "metadata": {},
   "source": [
    "<div style=\"text-align: justify\">\n",
    "Em relação à volatilidade, como a perda para a posição comprada é limitada pelo valor do prêmio pago, conforme aumenta a volatilidade, a chance de variar o preço é maior, desse modo, independentemente se for call ou put, americana ou europeia, a opção é valorizada.\n",
    "</div>"
   ]
  },
  {
   "cell_type": "markdown",
   "id": "b60a4d84",
   "metadata": {},
   "source": [
    "---"
   ]
  },
  {
   "cell_type": "markdown",
   "id": "5f39da34",
   "metadata": {},
   "source": [
    "## *5.0.4 Taxa de Juros Livre de Risco $r$*"
   ]
  },
  {
   "cell_type": "markdown",
   "id": "a6eda23a",
   "metadata": {},
   "source": [
    "---"
   ]
  },
  {
   "cell_type": "markdown",
   "id": "e9f9a45e",
   "metadata": {},
   "source": [
    "A taxa de juros livre de risco, por sua vez, afeta o valor das opções da seguinte forma:\n",
    "\n",
    "Se as taxas aumentarem, o **retorno esperado das ações tende a aumentar**, conforme o modelo **CAPM (Capital Asset Pricing Model)**, cuja fórmula é:\n",
    "\n",
    "$$\n",
    "E(R_i) = R_f + \\beta_i \\cdot (E(R_m) - R_f)\n",
    "$$\n",
    "\n",
    "Onde:\n",
    "\n",
    "- $E(R_i)$: retorno esperado do ativo $i$  \n",
    "- $R_f$: taxa de juros livre de risco  \n",
    "- $\\beta_i$: sensibilidade do ativo $i$ ao mercado  \n",
    "- $E(R_m)$: retorno esperado do mercado\n",
    "\n",
    "Além disso, o **valor presente dos fluxos de caixa futuros** é reduzido com o aumento da taxa de juros.  \n",
    "Esse valor é calculado pela fórmula:\n",
    "\n",
    "$$\n",
    "PV = FV \\cdot e^{-rT}\n",
    "$$\n",
    "\n",
    "Onde:\n",
    "\n",
    "- $PV$: valor presente  \n",
    "- $FV$: valor futuro (fluxo de caixa)  \n",
    "- $r$: taxa de juros contínua  \n",
    "- $T$: tempo até o vencimento\n",
    "\n",
    "\n",
    "Assim, ao combinar esses fatores:\n",
    "\n",
    "- **Elevar as taxas de juros tende a diminuir o preço das ações**\n",
    "- Isso **valoriza a put**\n",
    "- E **desvaloriza a call**"
   ]
  },
  {
   "cell_type": "markdown",
   "id": "195dcf3a",
   "metadata": {},
   "source": [
    "<div style=\"text-align: justify\">\n",
    "Por fim, quanto aos dividendos, eles diminuem o valor das ações, logo, as calls são desvalorizadas e as puts, valorizadas. Um termo importante é a ex-dividend data, ou seja, o investidor que possuir a ação até um dia útil antes dessa data, ele tem o direito de receber dividendos na data de pagamento.\n",
    "</div>"
   ]
  },
  {
   "cell_type": "markdown",
   "id": "c8b78161",
   "metadata": {},
   "source": [
    "---"
   ]
  },
  {
   "cell_type": "markdown",
   "id": "9e6e0f0d",
   "metadata": {},
   "source": [
    "### **5.1. LIMITE SUPERIOR e LIMITE INFERIOR**\n"
   ]
  },
  {
   "cell_type": "markdown",
   "id": "963b5cc3",
   "metadata": {},
   "source": [
    "<div style=\"text-align: justify\">\n",
    "Antes de aplicar as fórmulas para precificar opções, Hull define condições necessárias para que não ocorra a oportunidade de arbitragem. Assim, será explicado os valores máximos e mínimos que as opções podem ser negociadas.\n",
    "</div>"
   ]
  },
  {
   "cell_type": "markdown",
   "id": "c91751e0",
   "metadata": {},
   "source": [
    "<div style=\"text-align: justify\">\n",
    "Retomando a notação:\n",
    "</div>"
   ]
  },
  {
   "cell_type": "markdown",
   "id": "0c4e5ea1",
   "metadata": {},
   "source": [
    "* Valor atual da ação: $S_0$\n",
    "* Strike price da opção: $K$\n",
    "* Tempo de vencimento: $T$\n",
    "* Preço da ação no vencimento: $S_T$\n",
    "* Taxa de juros livre de risco: $r$\n",
    "* Volatilidade do ativo: $\\sigma$\n",
    "* Valor da call europeia: $c$\n",
    "* Valor da put europeia: $p$\n",
    "* Valor da call americana: $C$\n",
    "* Valor da put americana: $P$"
   ]
  },
  {
   "cell_type": "markdown",
   "id": "e5e79909",
   "metadata": {},
   "source": [
    "## *5.1.1 Limite Superior - Calls Americanas e Europeias*"
   ]
  },
  {
   "cell_type": "markdown",
   "id": "504a82e7",
   "metadata": {},
   "source": [
    "Para as **calls**, sejam europeias ou americanas, o preço da opção **nunca pode ser superior ao preço da ação**.  \n",
    "Assim, temos os **Limites Superiores**:\n",
    "\n",
    "$$\n",
    "c \\leq S_0 \\quad \\text{e} \\quad C \\leq S_0\n",
    "$$\n",
    "\n",
    "Se essas relações não forem verdadeiras, o investidor poderia realizar **arbitragem**:  \n",
    "comprando a ação e vendendo a call, obtendo lucro sem risco."
   ]
  },
  {
   "cell_type": "markdown",
   "id": "e1e4ac5e",
   "metadata": {},
   "source": [
    "**Explicação do limite superior com arbitragem:**\n",
    "\n",
    "Suponha que $S_0 = 25$, $c = 30$ e $K = 20$ (call europeia).\n",
    "\n",
    "**Estratégia:**\n",
    "- Comprar a ação por $25$\n",
    "- Vender a call e receber $30$\n",
    "\n",
    "**Resultado inicial:**\n",
    "- Entrada líquida: $30 - 25 = 5$\n",
    "\n",
    "---\n",
    "\n",
    "**Caso 1:** No vencimento, $S_T = 28$  \n",
    "- A call será exercida: o investidor será **obrigado a vender a ação por $20$**\n",
    "- Como ele **já possui a ação**, ele entrega sem custo adicional\n",
    "- Mesmo vendendo abaixo do preço de mercado, ele **já embolsou $5$ no início da operação**\n",
    "\n",
    "**Payoff final:**\n",
    "$$\n",
    "\\text{Payoff} = 30 - 25 = 5\n",
    "$$\n",
    "\n",
    "---\n",
    "\n",
    "**Caso 2:** No vencimento, $S_T = 15$  \n",
    "- A call **não será exercida** (está fora do dinheiro)\n",
    "- O investidor **mantém a ação**\n",
    "- Ainda assim, ele recebeu $30$ da venda da call e pagou $25$ na ação\n",
    "\n",
    "**Payoff final:**\n",
    "$$\n",
    "\\text{Payoff} = 30 - 25 = 5\n",
    "$$\n",
    "\n",
    "---\n",
    "\n",
    "**Conclusão:**  \n",
    "Independentemente do cenário, o investidor garante **lucro sem risco** — uma **oportunidade de arbitragem**.  \n",
    "Isso comprova que a condição $c \\leq S_0$ **deve sempre ser respeitada**."
   ]
  },
  {
   "cell_type": "markdown",
   "id": "b0de972a",
   "metadata": {},
   "source": [
    "O **limite superior para opções de venda (puts)** varia conforme o tipo de opção:\n",
    "\n",
    "- **Put americana:** $P \\leq K$\n",
    "\n",
    "Se essa condição não for verdadeira, existe uma **oportunidade de arbitragem**.\n",
    "\n",
    "Diferentemente da call, neste caso é preciso utilizar **venda a descoberto** (*short selling*) com o mesmo prazo $T$.\n",
    "\n",
    "---\n",
    "\n",
    "### Conceito:\n",
    "\n",
    "Ao vender uma put, o investidor assume a possibilidade de **comprar o ativo por $K$** (caso o comprador da put exerça a opção).\n",
    "\n",
    "Porém, **comprar a ação e vender a put** **não garante arbitragem**, pois, se a put for exercida, o investidor terá **duas ações**, o que **não encerra automaticamente a posição**.\n",
    "\n",
    "Portanto, a **estratégia correta** envolve:\n",
    "\n",
    "- **Vender a descoberto** a ação (short selling)\n",
    "- **Vender a put**\n",
    "\n",
    "---\n",
    "\n",
    "### Exemplo:\n",
    "\n",
    "Suponha os seguintes valores:\n",
    "- $S_0 = 20$\n",
    "- $K = 25$\n",
    "- $P = 30$\n",
    "\n",
    "---\n",
    "\n",
    "#### Cenário 1: $S_T = 22$ (a put será exercida)\n",
    "\n",
    "- O investidor é **forçado a comprar** a ação por $K = 25$\n",
    "- Ele **usa essa ação** para **encerrar o short selling**\n",
    "- Recebeu $30$ da put + $20$ da venda a descoberto  \n",
    "- Pagou $25$ para comprar a ação no exercício\n",
    "\n",
    "**Payoff:**\n",
    "$$\n",
    "30 + 20 - 25 = 25\n",
    "$$\n",
    "\n",
    "---\n",
    "\n",
    "#### Cenário 2: $S_T = 28$ (a put **não será exercida**)\n",
    "\n",
    "- O investidor precisa **recomprar** a ação no mercado a $S_T = 28$ para **devolver** ao doador do short selling\n",
    "- Recebeu $30$ da put + $20$ do short  \n",
    "- Pagou $28$ na recompra da ação\n",
    "\n",
    "**Payoff:**\n",
    "$$\n",
    "30 + 20 - 28 = 22\n",
    "$$\n",
    "\n",
    "---\n",
    "\n",
    "### Conclusão:\n",
    "\n",
    "Em ambos os cenários, o investidor **lucra sem risco** — uma clara arbitragem.\n",
    "\n",
    "Isso mostra que a condição $P \\leq K$ **deve ser respeitada** para não violar a eficiência do mercado."
   ]
  },
  {
   "cell_type": "markdown",
   "id": "1f2d5a7f",
   "metadata": {},
   "source": [
    "<div style=\"text-align: justify\">\n",
    "Diferentemente da call, é preciso usar o short selling com o mesmo prazo T. Conceitualmente, ao vender a put, o investidor assume a possibilidade de comprar o ativo pelo preço K. Ao comprar a ação, se a put for exercida, ele terá 2 unidades, o que não garante a arbitragem.\n",
    "</div>"
   ]
  },
  {
   "cell_type": "markdown",
   "id": "49bcc371",
   "metadata": {},
   "source": [
    "## *5.1.2 Limite Superior — Put Europeia*"
   ]
  },
  {
   "cell_type": "markdown",
   "id": "27666426",
   "metadata": {},
   "source": [
    "O **limite superior** para o valor de uma **put europeia** é dado por:\n",
    "\n",
    "$$\n",
    "p \\leq K \\cdot e^{-rT}\n",
    "$$\n",
    "\n",
    "Diferentemente da **put americana**, a opção europeia **só pode ser exercida no vencimento**.  \n",
    "Por isso, o valor máximo da put deve ser o **valor presente de $K$**, descontado à taxa livre de risco $r$ pelo prazo $T$.\n",
    "\n",
    "---\n",
    "\n",
    "### Estratégia de Arbitragem:\n",
    "\n",
    "Se essa condição for violada (ou seja, se $p > K \\cdot e^{-rT}$), o investidor pode executar a seguinte operação:\n",
    "\n",
    "- **Vender a put** por $p$\n",
    "- **Investir o valor do prêmio** a uma taxa livre de risco $r$ pelo prazo $T$\n",
    "\n",
    "No vencimento, o valor acumulado será:\n",
    "\n",
    "$$\n",
    "p \\cdot e^{rT}\n",
    "$$\n",
    "\n",
    "---\n",
    "\n",
    "### Exemplo:\n",
    "\n",
    "Suponha:\n",
    "- $K = 25$\n",
    "- $p > K \\cdot e^{-rT}$  \n",
    "- O valor investido é $p \\cdot e^{rT}$\n",
    "\n",
    "---\n",
    "\n",
    "#### Cenário 1: $S_T = 22$ (a put será exercida)\n",
    "\n",
    "- O investidor é **obrigado a comprar** a ação por $K = 25$\n",
    "- No entanto, ele tem **$p \\cdot e^{rT}$ acumulado na aplicação**\n",
    "- Como $p > K \\cdot e^{-rT}$, então $p \\cdot e^{rT} > K$\n",
    "\n",
    "**Payoff:**\n",
    "$$\n",
    "\\text{Payoff} = p \\cdot e^{rT} - K > 0\n",
    "$$\n",
    "\n",
    "---\n",
    "\n",
    "#### Cenário 2: $S_T = 28$ (a put **não será exercida**)\n",
    "\n",
    "- O investidor **não precisa comprar** a ação\n",
    "- Ele simplesmente fica com o montante acumulado\n",
    "\n",
    "**Payoff:**\n",
    "$$\n",
    "\\text{Payoff} = p \\cdot e^{rT} > 0\n",
    "$$\n",
    "\n",
    "---\n",
    "\n",
    "### Conclusão:\n",
    "\n",
    "Independentemente do valor de $S_T$, o investidor garante **lucro sem risco**,  \n",
    "o que caracteriza uma **arbitragem**. Por isso, o limite superior para puts europeias deve ser:\n",
    "\n",
    "$$\n",
    "p \\leq K \\cdot e^{-rT}\n",
    "$$"
   ]
  },
  {
   "cell_type": "markdown",
   "id": "501562be",
   "metadata": {},
   "source": [
    "## 5.1.3 *Limite Inferior — Call Europeia (sem dividendos)*\n"
   ]
  },
  {
   "cell_type": "markdown",
   "id": "fca121c4",
   "metadata": {},
   "source": [
    "O **limite inferior** para o valor de uma **call europeia**, quando a ação **não paga dividendos**, é dado por:\n",
    "\n",
    "$$\n",
    "c \\geq S_0 - K \\cdot e^{-rT}\n",
    "$$\n",
    "\n",
    "---\n",
    "\n",
    "#### Exemplo:\n",
    "\n",
    "Considere os seguintes valores:\n",
    "\n",
    "- $S_0 = 20$\n",
    "- $K = 18$\n",
    "- $r = 10\\%$ ao ano\n",
    "- $T = 1$ ano\n",
    "\n",
    "Cálculo do limite inferior:\n",
    "\n",
    "$$\n",
    "c \\geq 20 - 18 \\cdot e^{-0{,}1} \\approx 20 - 16{,}29 = 3{,}71\n",
    "$$\n",
    "\n",
    "---\n",
    "\n",
    "#### Arbitragem:\n",
    "\n",
    "Suponha que a call esteja sendo negociada por **$c = 3$**, abaixo do limite.\n",
    "\n",
    "Estratégia de arbitragem:\n",
    "\n",
    "- **Vender a ação a descoberto** (short selling): recebe $S_0 = 20$\n",
    "- **Comprar a call**: paga $c = 3$\n",
    "- **Investir a diferença ($20 - 3 = 17$)** a uma taxa de $10\\%$ ao ano por 1 ano\n",
    "\n",
    "Valor acumulado ao final do período:\n",
    "\n",
    "$$\n",
    "17 \\cdot e^{0{,}1} \\approx 18{,}79\n",
    "$$\n",
    "\n",
    "---\n",
    "\n",
    "#### Cenários:\n",
    "\n",
    "**Caso 1:** $S_T = 22 > K = 18$ (a call é exercida)\n",
    "\n",
    "- O investidor **exerce a call** e compra a ação por $18$\n",
    "- Devolve a ação ao doador do short selling\n",
    "\n",
    "**Payoff:**\n",
    "\n",
    "$$\n",
    "18{,}79 - 18 = 0{,}79\n",
    "$$\n",
    "\n",
    "---\n",
    "\n",
    "**Caso 2:** $S_T = 17 < K = 18$ (a call **não será exercida**)\n",
    "\n",
    "- O investidor recompra a ação no mercado por $17$ para encerrar o short\n",
    "\n",
    "**Payoff:**\n",
    "\n",
    "$$\n",
    "18{,}79 - 17 = 1{,}79\n",
    "$$\n",
    "\n",
    "---\n",
    "\n",
    "### Conclusão:\n",
    "\n",
    "Em ambos os cenários, há **lucro sem risco**, indicando uma violação do limite inferior.  \n",
    "Para evitar oportunidades de arbitragem, deve-se respeitar:\n",
    "\n",
    "$$\n",
    "c \\geq S_0 - K \\cdot e^{-rT}\n",
    "$$"
   ]
  },
  {
   "cell_type": "markdown",
   "id": "95b07f6b",
   "metadata": {},
   "source": [
    "## *5.1.4 Limite Inferior — Put Europeia (sem dividendos)*\n",
    "\n",
    "Para opções de venda (puts) europeias sobre ações **sem pagamento de dividendos**, o **limite inferior** é dado por:\n",
    "\n",
    "$$\n",
    "p \\geq K \\cdot e^{-rT} - S_0\n",
    "$$\n",
    "\n",
    "---\n",
    "\n",
    "#### Exemplo:\n",
    "\n",
    "Considere os seguintes valores:\n",
    "\n",
    "- $S_0 = 37$\n",
    "- $K = 40$\n",
    "- $r = 5\\%$ ao ano\n",
    "- $T = 0{,}5$ anos\n",
    "\n",
    "**Cálculo do limite inferior:**\n",
    "\n",
    "$$\n",
    "p \\geq 40 \\cdot e^{-0{,}05 \\cdot 0{,}5} - 37 \\approx 38{,}01 - 37 = 1{,}01\n",
    "$$\n",
    "\n",
    "Suponha que a put esteja sendo negociada por **$p = 1$**, abaixo do limite.\n",
    "\n",
    "---\n",
    "\n",
    "### Estratégia de Arbitragem:\n",
    "\n",
    "O investidor pode realizar a seguinte operação:\n",
    "\n",
    "1. **Tomar emprestado** $38$ à taxa $r = 5\\%$ por $T = 0{,}5$ anos\n",
    "2. **Comprar a ação**: paga $S_0 = 37$\n",
    "3. **Comprar a put**: paga $p = 1$\n",
    "\n",
    "No vencimento, o valor a ser devolvido do empréstimo será:\n",
    "\n",
    "$$\n",
    "38 \\cdot e^{0{,}05 \\cdot 0{,}5} \\approx 38{,}96\n",
    "$$\n",
    "\n",
    "---\n",
    "\n",
    "#### Cenários:\n",
    "\n",
    "**Caso 1:** $S_T < K = 40$ (a put será exercida)\n",
    "\n",
    "- O investidor **exerce a put** e **vende a ação por $K = 40$**\n",
    "- Utiliza os $40$ para **quitar o empréstimo**\n",
    "\n",
    "**Payoff:**\n",
    "\n",
    "$$\n",
    "40 - 38{,}96 = 1{,}04\n",
    "$$\n",
    "\n",
    "---\n",
    "\n",
    "**Caso 2:** $S_T = 42 > K$ (a put **não será exercida**)\n",
    "\n",
    "- O investidor **vende a ação no mercado por $42$**\n",
    "- Usa o valor para **quitar o empréstimo**\n",
    "\n",
    "**Payoff:**\n",
    "\n",
    "$$\n",
    "42 - 38{,}96 = 3{,}04\n",
    "$$\n",
    "\n",
    "---\n",
    "\n",
    "### Conclusão:\n",
    "\n",
    "Em ambos os cenários, o investidor garante **lucro sem risco**, o que caracteriza uma **arbitragem**.  \n",
    "Isso só é possível porque a put estava sendo negociada abaixo do limite:\n",
    "\n",
    "$$\n",
    "p < K \\cdot e^{-rT} - S_0\n",
    "$$\n",
    "\n",
    "Portanto, para garantir a ausência de arbitragem, deve-se respeitar o limite inferior:\n",
    "\n",
    "$$\n",
    "p \\geq K \\cdot e^{-rT} - S_0\n",
    "$$"
   ]
  },
  {
   "cell_type": "markdown",
   "id": "d3438be8",
   "metadata": {},
   "source": [
    "### **5.2. Put-Call Parity — Relação de Paridade**\n",
    "\n",
    "A partir das demonstrações do **Limite Inferior** e do **Limite Superior** das opções, pode-se derivar a **put-call parity**, ou **relação de paridade entre calls e puts europeias**.\n",
    "\n",
    "Essa relação responde à seguinte pergunta:\n",
    "\n",
    "Dado que o prazo ($T$), o preço de exercício ($K$) e o ativo subjacente ($S_0$ e $S_T$) são os mesmos,  \n",
    "qual deve ser o valor justo da **call** — ou da **put** — para que **não exista oportunidade de arbitragem**?\n",
    "\n",
    "---\n",
    "\n",
    "A relação é expressa pela seguinte fórmula:\n",
    "\n",
    "$$\n",
    "c + K \\cdot e^{-rT} = p + S_0\n",
    "$$\n"
   ]
  },
  {
   "cell_type": "markdown",
   "id": "3cf82d9b",
   "metadata": {},
   "source": [
    "### Derivação da Put-Call Parity (Hull)\n",
    "\n",
    "Para encontrar a relação de paridade entre puts e calls, assumindo ações que **não pagam dividendos**, Hull propõe a comparação entre dois portfólios:\n",
    "\n",
    "---\n",
    "\n",
    "#### Portfólio A:\n",
    "- 1 call europeia\n",
    "- 1 título zero cupom que paga $K$ no vencimento $T$\n",
    "\n",
    "**Payoffs no vencimento:**\n",
    "- Se $S_T > K$: a call é exercida, gerando $(S_T - K)$, e o título paga $K$.  \n",
    "  $$ \\text{Valor final} = (S_T - K) + K = S_T $$\n",
    "- Se $S_T < K$: a call não é exercida (vale $0$), e o título paga $K$.  \n",
    "  $$ \\text{Valor final} = 0 + K = K $$\n",
    "\n",
    "---\n",
    "\n",
    "#### Portfólio C:\n",
    "- 1 put europeia\n",
    "- 1 ação (ativo subjacente)\n",
    "\n",
    "**Payoffs no vencimento:**\n",
    "- Se $S_T > K$: a put não é exercida (vale $0$), e o investidor mantém a ação.  \n",
    "  $$ \\text{Valor final} = S_T $$\n",
    "- Se $S_T < K$: a put é exercida, gerando $(K - S_T)$, e o investidor possui a ação ($S_T$), que será vendida por $K$.  \n",
    "  $$ \\text{Valor final} = (K - S_T) + S_T = K $$\n",
    "\n",
    "---\n",
    "\n",
    "### Conclusão:\n",
    "\n",
    "Em todos os cenários, ambos os portfólios resultam no mesmo valor no vencimento:\n",
    "\n",
    "- Se $S_T > K$, ambos valem $S_T$\n",
    "- Se $S_T < K$, ambos valem $K$\n",
    "\n",
    "Ou seja, o valor final de ambos é:\n",
    "\n",
    "$$\n",
    "\\max(S_T, K)\n",
    "$$\n",
    "\n",
    "Como os dois portfólios têm o **mesmo payoff**, pela **ausência de arbitragem**, seus valores hoje devem ser iguais.  \n",
    "Portanto, obtém-se a fórmula da **put-call parity**:\n",
    "\n",
    "$$\n",
    "c + K \\cdot e^{-rT} = p + S_0\n",
    "$$"
   ]
  },
  {
   "cell_type": "markdown",
   "id": "106cc361",
   "metadata": {},
   "source": [
    "### Exemplo: Arbitragem com Put-Call Parity\n",
    "\n",
    "Considere os seguintes dados:\n",
    "\n",
    "- $S_0 = 31$\n",
    "- $K = 30$\n",
    "- $r = 10\\%$ a.a\n",
    "- $T = 3$ meses = $0{,}25$ anos\n",
    "- $c = 3$\n",
    "- $p = 2{,}25$\n",
    "\n",
    "---\n",
    "\n",
    "### Cenário 1: Portfólio C está mais caro\n",
    "\n",
    "**Valores Presentes:**\n",
    "\n",
    "- Portfólio A: $PV(A) = c + K \\cdot e^{-rT} = 3 + 30 \\cdot e^{-0{,}10 \\cdot 0{,}25} \\approx 32{,}26$\n",
    "- Portfólio C: $PV(C) = p + S_0 = 2{,}25 + 31 = 33{,}25$\n",
    "\n",
    "Como $PV(C) > PV(A)$, há **oportunidade de arbitragem**:\n",
    "\n",
    "- Comprar A (call + título) e vender C (short selling na ação e na put)\n",
    "\n",
    "---\n",
    "\n",
    "### Fluxo de Caixa Inicial:\n",
    "\n",
    "$$\n",
    "\\text{Fluxo de Caixa} = -3 + 2{,}25 + 31 = 30{,}25\n",
    "$$\n",
    "\n",
    "Esse valor é aplicado à taxa livre de risco:\n",
    "\n",
    "$$\n",
    "30{,}25 \\cdot e^{0{,}10 \\cdot 0{,}25} \\approx 31{,}02\n",
    "$$\n",
    "\n",
    "---\n",
    "\n",
    "### No Vencimento:\n",
    "\n",
    "- Se $S_T > K = 30$:  \n",
    "  A call é exercida, compra o ativo por $K = 30$.  \n",
    "  $$ \\text{Lucro} = 31{,}02 - 30 = 1{,}02 $$\n",
    "\n",
    "- Se $S_T < K = 30$:  \n",
    "  A put é exercida pelo comprador da put vendida, então o investidor compra o ativo no mercado e entrega por $K = 30$.  \n",
    "  $$ \\text{Lucro} = 31{,}02 - 30 = 1{,}02 $$\n",
    "\n",
    "---\n",
    "\n",
    "### Cenário 2: Portfólio A está mais caro\n",
    "\n",
    "Suponha agora que:\n",
    "\n",
    "- $c = 3$\n",
    "- $p = 1$\n",
    "\n",
    "**Valores Presentes:**\n",
    "\n",
    "- $PV(A) = 3 + 30 \\cdot e^{-0{,}10 \\cdot 0{,}25} \\approx 32{,}26$\n",
    "- $PV(C) = 1 + 31 = 32{,}00$\n",
    "\n",
    "Como $PV(A) > PV(C)$, o investidor pode:\n",
    "\n",
    "- Comprar C (put + ação) e vender A (call + título)\n",
    "\n",
    "---\n",
    "\n",
    "### Fluxo de Caixa Inicial (Desembolso):\n",
    "\n",
    "$$\n",
    "\\text{Desembolso} = 31 + 1 - 3 = 29\n",
    "$$\n",
    "\n",
    "Esse valor é financiado à taxa livre de risco.  \n",
    "No vencimento:\n",
    "\n",
    "$$\n",
    "29 \\cdot e^{0{,}10 \\cdot 0{,}25} \\approx 29{,}73\n",
    "$$\n",
    "\n",
    "---\n",
    "\n",
    "### Payoff no vencimento:\n",
    "\n",
    "- Seja a call exercida ($S_T > K$) ou a put exercida ($S_T < K$), o investidor sempre recebe $K = 30$\n",
    "\n",
    "$$\n",
    "\\text{Lucro} = 30 - 29{,}73 = 0{,}27\n",
    "$$\n",
    "\n",
    "---\n",
    "\n",
    "### Conclusão:\n",
    "\n",
    "Sempre que a **put-call parity** for violada, pode-se construir portfólios sintéticos para **explorar a arbitragem**, garantindo lucro sem risco com base na diferença entre os valores presentes:\n",
    "\n",
    "$$\n",
    "c + K \\cdot e^{-rT} \\overset{?}{=} p + S_0\n",
    "$$"
   ]
  },
  {
   "cell_type": "markdown",
   "id": "35d8f589",
   "metadata": {},
   "source": [
    "### **5.3. MODELO BINOMINAL**\n"
   ]
  },
  {
   "cell_type": "markdown",
   "id": "9011aaae",
   "metadata": {},
   "source": [
    "Uma forma de precificar a opção, ou seja, calcular o valor justo do prêmio pago pela posição comprada, é o **modelo da árvore binomial**.  \n",
    "Esse método utiliza uma estrutura em forma de árvore — o desenho é semelhante ao algoritmo de *Machine Learning* **Decision Tree** — para simular os possíveis caminhos que o preço do ativo subjacente pode seguir até o vencimento da opção.\n",
    "\n",
    "A principal premissa é que o preço do ativo segue um **processo estocástico**, ou seja, randômico, com dois possíveis movimentos em cada intervalo de tempo:\n",
    "\n",
    "- Alta ($u$) → *Up*\n",
    "- Baixa ($d$) → *Down*\n",
    "\n",
    "Outro aspecto importante é que todos os investidores são considerados **neutros ao risco**.  \n",
    "Isso significa que o **retorno esperado do ativo** é igual à **taxa de juros livre de risco**.\n",
    "\n",
    "Além disso, a **taxa de desconto** usada para trazer os fluxos a valor presente também é a taxa livre de risco.\n",
    "\n",
    "Assim, ao investir \\$1 hoje, o retorno esperado no vencimento $T$ será:\n",
    "\n",
    "$$\n",
    "e^{rT}\n",
    "$$"
   ]
  },
  {
   "cell_type": "markdown",
   "id": "e6b4b8b8",
   "metadata": {},
   "source": [
    "<div style=\"text-align: justify\">\n",
    "Para exemplificar a precificação, Hull define que não existe oportunidade de arbitragem. Além disso, o risco é inexistente no portfólio construído. Dessa maneira, supondo um período de três meses, o retorno da carteira deve ser igual ao investir na taxa de juros livre de risco pelo mesmo prazo.\n",
    "</div>"
   ]
  },
  {
   "cell_type": "markdown",
   "id": "56233dee",
   "metadata": {},
   "source": [
    "### Precificação via Árvore Binomial: Exemplo com Call Europeia\n",
    "\n",
    "Considere o seguinte portfólio:\n",
    "\n",
    "- Posição comprada em $\\Delta$ ações\n",
    "- Posição vendida em 1 call europeia de preço $c$\n",
    "\n",
    "O objetivo é encontrar o valor de $\\Delta$ para que o portfólio seja **livre de risco**.\n",
    "\n",
    "---\n",
    "\n",
    "#### Dados:\n",
    "\n",
    "- Preço atual da ação: $S_0 = 20$\n",
    "- Possíveis preços no vencimento:\n",
    "  - Alta: $S_u = 22$\n",
    "  - Baixa: $S_d = 18$\n",
    "- Preço da call: $c = 1$\n",
    "\n",
    "---\n",
    "\n",
    "### Valor do Portfólio no Vencimento:\n",
    "\n",
    "Se o preço da ação subir para 22:\n",
    "- A call será exercida: payoff = $22 - 20 = 2$\n",
    "- Como o investidor está vendido na call, ele perde 2.\n",
    "- O valor do portfólio será:\n",
    "  \n",
    "$$\n",
    "\\text{Portfólio}_\\text{up} = \\Delta \\cdot 22 - 2\n",
    "$$\n",
    "\n",
    "Se o preço da ação cair para 18:\n",
    "- A call não será exercida (Out of the money)\n",
    "- O valor do portfólio será:\n",
    "  \n",
    "$$\n",
    "\\text{Portfólio}_\\text{down} = \\Delta \\cdot 18 - 0\n",
    "$$\n",
    "\n",
    "---\n",
    "\n",
    "### Condição de Portfólio Livre de Risco:\n",
    "\n",
    "Para eliminar o risco, igualamos os dois valores:\n",
    "\n",
    "$$\n",
    "\\Delta \\cdot 22 - 2 = \\Delta \\cdot 18\n",
    "$$\n",
    "\n",
    "Resolvendo:\n",
    "\n",
    "$$\n",
    "22\\Delta - 2 = 18\\Delta \\Rightarrow 4\\Delta = 2 \\Rightarrow \\Delta = 0{,}5\n",
    "$$\n",
    "\n",
    "---\n",
    "\n",
    "### Valor do Portfólio no Vencimento:\n",
    "\n",
    "Substituindo $\\Delta = 0{,}5$:\n",
    "\n",
    "$$\n",
    "\\text{Valor final} = 0{,}5 \\cdot 18 = 9\n",
    "$$\n",
    "\n",
    "---\n",
    "\n",
    "### Valor Presente do Portfólio:\n",
    "\n",
    "Taxa livre de risco: $r = 12\\%$ ao ano  \n",
    "Tempo: $T = \\frac{3}{12} = 0{,}25$\n",
    "\n",
    "$$\n",
    "\\text{VP} = 9 \\cdot e^{-0{,}12 \\cdot 0{,}25} \\approx 9 \\cdot e^{-0{,}03} \\approx 9 \\cdot 0{,}9704 = 8{,}734\n",
    "$$\n",
    "\n",
    "---\n",
    "\n",
    "### Valor do Portfólio Hoje:\n",
    "\n",
    "O valor do portfólio hoje também é dado por:\n",
    "\n",
    "$$\n",
    "\\Delta \\cdot S_0 - c = 0{,}5 \\cdot 20 - c = 10 - c\n",
    "$$\n",
    "\n",
    "Igualando ao valor presente:\n",
    "\n",
    "$$\n",
    "10 - c = 8{,}734 \\Rightarrow c = 1{,}266\n",
    "$$\n",
    "\n",
    "---\n",
    "\n",
    "### Conclusão:\n",
    "\n",
    "Para que não haja arbitragem, o valor justo da call europeia é:\n",
    "\n",
    "$$\n",
    "\\boxed{c = 1{,}266}\n",
    "$$\n",
    "\n",
    "Apesar de $\\Delta = 0{,}5$ não representar ações inteiras, isso é resolvido escalando o portfólio: por exemplo, comprar 100 ações e vender 200 calls.\n",
    "\n",
    "---\n",
    "\n",
    "### Observação:\n",
    "\n",
    "Para calcular o valor da **put europeia**, pode-se aplicar a fórmula da **put-call parity**:\n",
    "\n",
    "$$\n",
    "p = c + K \\cdot e^{-rT} - S_0\n",
    "$$"
   ]
  },
  {
   "cell_type": "markdown",
   "id": "25386347",
   "metadata": {},
   "source": [
    "<div style=\"text-align: justify\">\n",
    "Nesse exemplo, a árvore, construída em Excel, é dada por:\n",
    "</div>"
   ]
  },
  {
   "cell_type": "code",
   "execution_count": 3,
   "id": "2fc23f03",
   "metadata": {},
   "outputs": [
    {
     "data": {
      "image/jpeg": "[encoded data removed]",
      "text/plain": [
       "<IPython.core.display.Image object>"
      ]
     },
     "metadata": {},
     "output_type": "display_data"
    }
   ],
   "source": [
    "from IPython.display import display, Image\n",
    "\n",
    "display(Image(filename='arvore1.jpeg'))"
   ]
  },
  {
   "cell_type": "markdown",
   "id": "2c8fadbc",
   "metadata": {},
   "source": [
    "Essa é uma forma **simplificada**, pois os valores de $S_T$ foram previamente definidos.  \n",
    "Para **generalizar**, é necessário calcular:\n",
    "\n",
    "- A **probabilidade neutra ao risco** de alta ou baixa\n",
    "- Os **fatores multiplicativos**:\n",
    "  - Alta: $u$\n",
    "  - Baixa: $d$\n",
    "\n",
    "Os possíveis valores futuros de $S_T$ podem ser obtidos pelos fatores:\n",
    "\n",
    "$$\n",
    "u = e^{\\sigma \\sqrt{T/n}} \\\\\n",
    "d = e^{-\\sigma \\sqrt{T/n}}\n",
    "$$\n",
    "\n",
    "ou, de forma equivalente:\n",
    "\n",
    "$$\n",
    "d = \\frac{1}{u}\n",
    "$$\n",
    "\n",
    "Onde:\n",
    "- $\\sigma$ = volatilidade do ativo\n",
    "- $T$ = tempo até o vencimento (em anos)\n",
    "- $n$ = número de passos da árvore\n",
    "\n",
    "---\n",
    "\n",
    "### Propriedades:\n",
    "\n",
    "$$\n",
    "u > 1 \\quad \\text{e} \\quad d < 1\n",
    "$$\n",
    "\n",
    "---\n",
    "\n",
    "### Valor de $\\Delta$ (número de ações no portfólio):\n",
    "\n",
    "O valor de $\\Delta$ para replicar o payoff da opção no modelo binomial é:\n",
    "\n",
    "$$\n",
    "\\Delta = \\frac{f_u - f_d}{S_0 \\cdot u - S_0 \\cdot d}\n",
    "$$\n",
    "\n",
    "ou simplificadamente:\n",
    "\n",
    "$$\n",
    "\\Delta = \\frac{f_u - f_d}{S_0 (u - d)}\n",
    "$$\n",
    "\n",
    "Onde:\n",
    "- $f_u$ = valor da opção no cenário de alta\n",
    "- $f_d$ = valor da opção no cenário de baixa\n",
    "- $S_0$ = preço atual da ação"
   ]
  },
  {
   "cell_type": "markdown",
   "id": "70475b8f",
   "metadata": {},
   "source": [
    "Um parâmetro essencial no modelo binomial é a **probabilidade $p$** de que o preço do ativo **aumente**.  \n",
    "Por consequência, $1 - p$ representa a probabilidade de **queda**.\n",
    "\n",
    "A condição básica é:\n",
    "\n",
    "$$\n",
    "0 < p < 1\n",
    "$$\n",
    "\n",
    "---\n",
    "\n",
    "### Fórmula da probabilidade neutra ao risco:\n",
    "\n",
    "Para garantir que o retorno esperado do ativo esteja ajustado à taxa livre de risco ($r$), utilizamos:\n",
    "\n",
    "$$\n",
    "p = \\frac{e^{rT/n} - d}{u - d}\n",
    "$$\n",
    "\n",
    "Onde:\n",
    "\n",
    "- $p$: probabilidade neutra ao risco de alta  \n",
    "- $r$: taxa de juros livre de risco  \n",
    "- $T$: tempo até o vencimento (em anos)  \n",
    "- $n$: número de passos da árvore  \n",
    "- $u$: fator de alta  \n",
    "- $d$: fator de baixa\n",
    "\n",
    "---\n",
    "\n",
    "### Condição de consistência com o modelo de risco neutro:\n",
    "\n",
    "Para que o ativo compense o risco de investir em ações ao invés da taxa livre de risco, é necessário:\n",
    "\n",
    "$$\n",
    "u > e^{rT/n}\n",
    "$$\n",
    "\n",
    "Essa condição assegura que o valor esperado do ativo **iguala ao retorno da taxa livre de risco**, garantindo **ausência de arbitragem**.\n",
    "\n",
    "Se $u \\leq e^{rT/n}$, o modelo não será válido — pois não haveria incentivo para investir em ações ao invés de ativos livres de risco."
   ]
  },
  {
   "cell_type": "markdown",
   "id": "80d6ef90",
   "metadata": {},
   "source": [
    "Com base nisso, pode-se chegar na seguinte expressão:\n",
    "\n",
    "$$\n",
    "\\text{Retorno Esperado da Opção} = p f_u + (1 - p) f_d\n",
    "$$\n",
    "\n",
    "$$\n",
    "\\text{Valor Presente da Opção} = e^{-rT} (p f_u + (1 - p) f_d)\n",
    "$$\n",
    "\n",
    "Logo, o payoff esperado da opção é uma média ponderada dos cenários de alta ($f_u$) e de baixa ($f_d$). Sabendo que:\n",
    "\n",
    "$$\n",
    "f_u = S_0 \\cdot u \\\\\n",
    "f_d = S_0 \\cdot d\n",
    "$$\n",
    "\n",
    "O retorno esperado $E(S_T)$ pode ser reescrito como:\n",
    "\n",
    "$$\n",
    "E(S_T) = p \\cdot S_0 \\cdot u + (1 - p) \\cdot S_0 \\cdot d\n",
    "$$\n",
    "\n",
    "Substituindo a fórmula da probabilidade neutra ao risco $p = \\frac{e^{rT} - d}{u - d}$, obtém-se:\n",
    "\n",
    "$$\n",
    "E(S_T) = S_0 \\cdot e^{rT}\n",
    "$$\n",
    "\n",
    "No exemplo anterior, o modelo possui apenas 1 passo, ou seja, durante o período analisado, o preço do ativo pode variar apenas uma vez.  \n",
    "Agora, para mostrar como essas fórmulas podem ser aplicadas em mais passos, será utilizado o exercício da prova da disciplina Derivativos, do professor Sanvicente."
   ]
  },
  {
   "cell_type": "markdown",
   "id": "053adf4a",
   "metadata": {},
   "source": [
    "<div style=\"text-align: justify\">\n",
    "A volatilidade estimada de uma ação é igual a 25% ao ano. A taxa de juros livre de risco é igual a 11% ao ano, com capitalização contínua. É negociada uma opção européia de venda dessa ação, com preço de exercício igual a $35; o preço atual da ação é $38. Usando o modelo binomial, com dois passos de durações iguais, qual deve ser o preço da opção de compra, supondo-se que ela tenha prazo de 6 meses? Apresente os cálculos apropriados.\n",
    "</div>"
   ]
  },
  {
   "cell_type": "markdown",
   "id": "11299c86",
   "metadata": {},
   "source": [
    "Sabemos que:\n",
    "\n",
    "$$\n",
    "u = e^{\\sigma \\sqrt{T/n}} = e^{0{,}25 \\cdot \\sqrt{0{,}5 / 2}} = e^{0{,}25 \\cdot 0{,}5} = e^{0{,}125} \\approx 1{,}1331\n",
    "$$\n",
    "\n",
    "Assim:\n",
    "\n",
    "$$\n",
    "d = \\frac{1}{u} = \\frac{1}{1{,}1331} \\approx 0{,}8825\n",
    "$$\n",
    "\n",
    "A probabilidade neutra ao risco é:\n",
    "\n",
    "$$\n",
    "p = \\frac{e^{r \\cdot \\frac{T}{n}} - d}{u - d} = \\frac{e^{0{,}11 \\cdot 0{,}25} - 0{,}8825}{1{,}1331 - 0{,}8825} = \\frac{1{,}0279 - 0{,}8825}{0{,}2506} \\approx 0{,}58\n",
    "$$\n",
    "\n",
    "Logo:\n",
    "\n",
    "$$\n",
    "1 - p = 1 - 0{,}58 = 0{,}42\n",
    "$$\n",
    "\n",
    "### Cálculo dos preços da ação em cada etapa:\n",
    "\n",
    "1. Etapa intermediária (após 3 meses):\n",
    "\n",
    "- Alta:  \n",
    "  $S_1^u = S_0 \\cdot u = 38 \\cdot 1{,}1331 = 43{,}06$\n",
    "\n",
    "- Baixa:  \n",
    "  $S_1^d = S_0 \\cdot d = 38 \\cdot 0{,}8825 = 33{,}54$\n",
    "\n",
    "2. Etapa final (vencimento - 6 meses):\n",
    "\n",
    "- Alta após alta:  \n",
    "  $S_2^{uu} = S_0 \\cdot u^2 = 38 \\cdot 1{,}1331^2 \\approx 38 \\cdot 1{,}2839 = 48{,}79$\n",
    "\n",
    "- Baixa após alta:  \n",
    "  $S_2^{ud} = S_0 \\cdot u \\cdot d = 38 \\cdot 1{,}1331 \\cdot 0{,}8825 = 38 \\cdot 1 = 38$\n",
    "\n",
    "- Alta após baixa:  \n",
    "  $S_2^{du} = S_0 \\cdot d \\cdot u = 38 \\cdot 0{,}8825 \\cdot 1{,}1331 = 38 \\cdot 1 = 38$\n",
    "\n",
    "- Baixa após baixa:  \n",
    "  $S_2^{dd} = S_0 \\cdot d^2 = 38 \\cdot 0{,}8825^2 = 38 \\cdot 0{,}7798 = 29{,}63$"
   ]
  },
  {
   "cell_type": "markdown",
   "id": "a0b8e10b",
   "metadata": {},
   "source": [
    "Inicilamente, a árvore criada em Excel, é dada por:\n",
    "\n"
   ]
  },
  {
   "cell_type": "code",
   "execution_count": 6,
   "id": "409cc401",
   "metadata": {},
   "outputs": [
    {
     "data": {
      "image/jpeg": "[encoded data removed]",
      "text/plain": [
       "<IPython.core.display.Image object>"
      ]
     },
     "metadata": {},
     "output_type": "display_data"
    }
   ],
   "source": [
    "from IPython.display import display, Image\n",
    "\n",
    "display(Image(filename='arvore2.jpeg'))"
   ]
  },
  {
   "cell_type": "markdown",
   "id": "6cb21a16",
   "metadata": {},
   "source": [
    "### Notação dos preços da ação e dos valores da opção nos nós da árvore binomial\n",
    "\n",
    "- Preços da ação após o primeiro passo:\n",
    "  - $f_{1,d} = 33{,}535$\n",
    "  - $f_{1,u} = 43{,}0578$\n",
    "\n",
    "- Preços da ação no segundo passo:\n",
    "  - $f_{2,d,d} = 29{,}5946$\n",
    "  - $f_{2,u,u} = 48{,}7888$\n",
    "  - $f_{2,d,u} = f_{2,u,d} = 37{,}9985$"
   ]
  },
  {
   "cell_type": "markdown",
   "id": "4fdcb403",
   "metadata": {},
   "source": [
    "### Cálculo dos Payoffs da Put Europeia\n",
    "\n",
    "Os valores simulados referem-se a uma **opção de venda europeia** com preço de exercício (strike) igual a $35.  \n",
    "Logo, a opção só terá valor **se o preço da ação no vencimento for inferior a $35**.\n",
    "\n",
    "Como se trata de uma **put europeia**, ela **só pode ser exercida no vencimento** (T = 6 meses).  \n",
    "Assim, os payoffs serão calculados **apenas nos nós finais** da árvore binomial.\n",
    "\n",
    "A fórmula para calcular o **valor presente da opção** é:\n",
    "\n",
    "$$\n",
    "f = e^{-r \\cdot \\Delta t} \\left[ p \\cdot f_u + (1 - p) \\cdot f_d \\right]\n",
    "$$\n",
    "\n",
    "Os **payoffs nos nós finais** foram calculados com base na fórmula da put:\n",
    "\n",
    "$$\n",
    "\\text{put} = \\max(K - S_T, 0)\n",
    "$$\n",
    "Os payoffs estão destacado em vermelho"
   ]
  },
  {
   "cell_type": "code",
   "execution_count": 7,
   "id": "e798b5f1",
   "metadata": {},
   "outputs": [
    {
     "data": {
      "image/jpeg": "[encoded data removed]",
      "text/plain": [
       "<IPython.core.display.Image object>"
      ]
     },
     "metadata": {},
     "output_type": "display_data"
    }
   ],
   "source": [
    "from IPython.display import display, Image\n",
    "\n",
    "display(Image(filename='arvore3.jpeg'))"
   ]
  },
  {
   "cell_type": "markdown",
   "id": "f022644d",
   "metadata": {},
   "source": [
    "<div style=\"text-align: justify\">\n",
    "Nesse caso, como a maioria dos payoffs são 0, isso facilita as contas. O único valor usado foi 5,405363.\n",
    "</div>"
   ]
  },
  {
   "cell_type": "markdown",
   "id": "47ffd2d2",
   "metadata": {},
   "source": [
    "<div style=\"text-align: justify\">\n",
    "3. Agora, para finalizar a precificação da put, é preciso repetir o passo anterior e trazer a valor presente o preço da put em T = 3 meses, conforme a imagem abaixo\n",
    "</div>"
   ]
  },
  {
   "cell_type": "code",
   "execution_count": 8,
   "id": "eb3d5b4f",
   "metadata": {},
   "outputs": [
    {
     "data": {
      "image/jpeg": "[encoded data removed]",
      "text/plain": [
       "<IPython.core.display.Image object>"
      ]
     },
     "metadata": {},
     "output_type": "display_data"
    }
   ],
   "source": [
    "from IPython.display import display, Image\n",
    "\n",
    "display(Image(filename='arvore4.jpeg'))"
   ]
  },
  {
   "cell_type": "markdown",
   "id": "f40b2b1e",
   "metadata": {},
   "source": [
    "<div style=\"text-align: justify\">\n",
    "Assim, o valor justo da put é 0,902479\n",
    "</div>"
   ]
  },
  {
   "cell_type": "markdown",
   "id": "c67460a0",
   "metadata": {},
   "source": [
    "Para calcular o valor da call, aplicamos a fórmula da **put-call parity**, dada por:\n",
    "\n",
    "$$\n",
    "c + K \\, e^{-r T} = p + S_0\n",
    "$$\n",
    "\n",
    "Isolando \\( c \\):\n",
    "\n",
    "$$\n",
    "c = p + S_0 - K \\, e^{-r T}\n",
    "$$\n",
    "\n",
    "Substituindo os valores:\n",
    "\n",
    "$$\n",
    "c = 0,902479 + 38 - 35 \\, e^{-0,11 \\cdot 0,5}\n",
    "$$\n",
    "\n",
    "$$\n",
    "c \\approx 0,902479 + 38 - 33,1275\n",
    "$$\n",
    "\n",
    "$$\n",
    "c \\approx 7,05\n",
    "$$"
   ]
  },
  {
   "cell_type": "markdown",
   "id": "eb6f1a32",
   "metadata": {},
   "source": [
    "### **5.4. Modelo Black-Scholes-Merton**\n"
   ]
  },
  {
   "cell_type": "markdown",
   "id": "97605dbe",
   "metadata": {},
   "source": [
    "<div style=\"text-align: justify\">\n",
    "Por fim, a equação, desenvolvida no início da década de 1970, mais famosa para precificar uma call européia, é o modelo Black-Scholes-Merton, conhecida como a equação de 1 milhão de dólares. Myron Scholes e Robert Merton foram laureados com o Prêmio Nobel de Economia em 1997, Fisher Black faleceu antes disso, por isso, não ganhou.\n",
    "</div>"
   ]
  },
  {
   "cell_type": "markdown",
   "id": "a1aafb57",
   "metadata": {},
   "source": [
    "A fórmula de precificação de calls europeias pelo modelo de Black-Scholes é dada por:\n",
    "\n",
    "$$\n",
    "c = N(d_1) \\cdot S_0 - N(d_2) \\cdot K \\cdot e^{-rT}\n",
    "$$\n",
    "\n",
    "Com:\n",
    "\n",
    "$$\n",
    "d_1 = \\frac{\\ln\\left(\\frac{S_0}{K}\\right) + \\left(r + \\frac{\\sigma^2}{2}\\right)T}{\\sigma \\sqrt{T}}\n",
    "$$\n",
    "\n",
    "$$\n",
    "d_2 = d_1 - \\sigma \\sqrt{T}\n",
    "$$\n",
    "\n",
    "$c$: preço da opção de compra (call) europeia  \n",
    "$S_0$: preço atual do ativo subjacente  \n",
    "$K$: preço de exercício (strike)  \n",
    "$T$: tempo até o vencimento (em anos)  \n",
    "$r$: taxa de juros livre de risco (capitalização contínua)  \n",
    "$\\sigma$: volatilidade anual do ativo subjacente  \n",
    "$N(d)$: função de distribuição acumulada da normal padrão aplicada a $d$"
   ]
  },
  {
   "cell_type": "markdown",
   "id": "03d872da",
   "metadata": {},
   "source": [
    "Como exemplo: considere uma call europeia com vencimento em 6 meses, strike price de $40, preço da ação de $42, taxa de juros livre de risco de 10% ao ano e volatilidade de 20% ao ano. Assim:\n",
    "\n",
    "$S_0 = 42$  \n",
    "$K = 40$  \n",
    "$r = 0{,}10$  \n",
    "$\\sigma = 0{,}20$  \n",
    "$T = 0{,}5$"
   ]
  },
  {
   "cell_type": "markdown",
   "id": "c5bb8959",
   "metadata": {},
   "source": [
    "**Cálculo de $d_1$ e $d_2$:**\n",
    "$$\n",
    "d_1 = \\frac{\\ln\\left(\\frac{42}{40}\\right) + \\left(0{,}1 + \\frac{0{,}2^2}{2}\\right) \\cdot 0{,}5}{0{,}2 \\cdot \\sqrt{0{,}5}} = 0{,}7693 \\approx 0{,}77\n",
    "$$\n",
    "\n",
    "$$\n",
    "d_2 = 0{,}7693 - 0{,}2 \\cdot \\sqrt{0{,}5} = 0{,}6278 \\approx 0{,}63\n",
    "$$\n",
    "\n",
    "---\n",
    "\n",
    "**Cálculo de $N(d_1)$ e $N(d_2)$ usando a tabela da normal padrão:**\n",
    "\n",
    "$$\n",
    "N(d_1) = N(0{,}77) \\approx 1 - 0{,}2794 = 0{,}7206\n",
    "$$\n",
    "\n",
    "$$\n",
    "N(d_2) = N(0{,}63) \\approx 1 - 0{,}2357 = 0{,}7643\n",
    "$$\n",
    "\n",
    "---\n",
    "\n",
    "**Substituindo na fórmula do modelo Black-Scholes:**\n",
    "\n",
    "$$\n",
    "c = N(d_1) \\cdot S_0 - N(d_2) \\cdot K \\cdot e^{-rT}\n",
    "$$\n",
    "\n",
    "$$\n",
    "c = 0{,}7206 \\cdot 42 - 0{,}7643 \\cdot 40 \\cdot e^{-0{,}1 \\cdot 0{,}5} \\approx 1{,}18\n",
    "$$\n",
    "\n",
    "---\n",
    "\n",
    "**Com maior precisão (via Python ou Excel):**\n",
    "\n",
    "$$\n",
    "N(d_1) = 0{,}7791,\\quad N(d_2) = 0{,}7349\n",
    "$$\n",
    "\n",
    "$$\n",
    "c = 0{,}7791 \\cdot 42 - 0{,}7349 \\cdot 40 \\cdot e^{-0{,}1 \\cdot 0{,}5} \\approx 4{,}76\n",
    "$$\n",
    "\n",
    "---\n",
    "\n",
    "**Pela put-call parity:**\n",
    "\n",
    "$$\n",
    "p = c + K \\cdot e^{-rT} - S_0 = 4{,}76 + 40 \\cdot e^{-0{,}1 \\cdot 0{,}5} - 42 \\approx 0{,}81\n",
    "$$"
   ]
  }
 ],
 "metadata": {
  "kernelspec": {
   "display_name": "Python 3",
   "language": "python",
   "name": "python3"
  },
  "language_info": {
   "codemirror_mode": {
    "name": "ipython",
    "version": 3
   },
   "file_extension": ".py",
   "mimetype": "text/x-python",
   "name": "python",
   "nbconvert_exporter": "python",
   "pygments_lexer": "ipython3",
   "version": "3.12.2"
  }
 },
 "nbformat": 4,
 "nbformat_minor": 5
}
